{
 "cells": [
  {
   "cell_type": "markdown",
   "metadata": {},
   "source": [
    "# K fold from unbalanced dataset\n",
    "\n",
    "the aim of this function is to define of which k_fold is associated each sample, by maintaining the proportions for each k_fold of the classes of the original dataset."
   ]
  },
  {
   "cell_type": "code",
   "execution_count": 1,
   "metadata": {},
   "outputs": [],
   "source": [
    "import pandas as pd\n",
    "import numpy as np"
   ]
  },
  {
   "cell_type": "code",
   "execution_count": 5,
   "metadata": {},
   "outputs": [],
   "source": [
    "def sampler_cross_validation_of_unbalanced_dataset(y, K, classes = np.array([0, 1, 2]), random_state = 123):\n",
    "    '''this function return for each sample the associated K, \n",
    "    where each K will have the same the same proportion of classes'''\n",
    "    \n",
    "    #init the array with the labels\n",
    "    k_label = np.zeros(y.shape[0])\n",
    "    \n",
    "    #set seed\n",
    "    np.random.seed(random_state)\n",
    "    \n",
    "    #for each class, I split it equally in K classes\n",
    "    for c in classes:\n",
    "        #obtain the indexes of c elements\n",
    "        c_idx = y == c #boolean array\n",
    "        k_label[c_idx] = np.random.randint(K, size=sum(c_idx))#generate random fold\n",
    "    \n",
    "    return k_label\n",
    "\n",
    "def sampler_report(y, k_label, classes = np.array([0, 1, 2])):\n",
    "    '''show the proporions for each K-fold\n",
    "    '''\n",
    "    \n",
    "    #obrain the number of K\n",
    "    K = int(k_label.max()) + 1\n",
    "    \n",
    "    print(\"num of K-fold\", K)\n",
    "    \n",
    "    #\n",
    "    for k in range(K):\n",
    "        #fold \n",
    "        print('\\n Fold n ', k)\n",
    "        k_idx = k_label == k\n",
    "        y_fold = y[k_idx] #get the y of the k fold\n",
    "        print('Num of samples', y_fold.shape[0])\n",
    "        for c in classes:\n",
    "            print('Class ', c, ':', (y_fold == c).sum()/y_fold.shape[0])\n",
    "        "
   ]
  },
  {
   "cell_type": "code",
   "execution_count": 10,
   "metadata": {},
   "outputs": [
    {
     "name": "stdout",
     "output_type": "stream",
     "text": [
      "num of K-fold 5\n",
      "\n",
      " Fold n  0\n",
      "Num of samples 4880\n",
      "Class  0 : 0.05758196721311475\n",
      "Class  1 : 0.7690573770491803\n",
      "Class  2 : 0.17336065573770493\n",
      "\n",
      " Fold n  1\n",
      "Num of samples 4949\n",
      "Class  0 : 0.06061830672863205\n",
      "Class  1 : 0.7639927258031926\n",
      "Class  2 : 0.1753889674681754\n",
      "\n",
      " Fold n  2\n",
      "Num of samples 5094\n",
      "Class  0 : 0.05182567726737338\n",
      "Class  1 : 0.7767962308598351\n",
      "Class  2 : 0.17137809187279152\n",
      "\n",
      " Fold n  3\n",
      "Num of samples 5016\n",
      "Class  0 : 0.061004784688995214\n",
      "Class  1 : 0.7812998405103668\n",
      "Class  2 : 0.15769537480063797\n",
      "\n",
      " Fold n  4\n",
      "Num of samples 4843\n",
      "Class  0 : 0.05760892009085278\n",
      "Class  1 : 0.7805079496180054\n",
      "Class  2 : 0.16188313029114185\n"
     ]
    }
   ],
   "source": [
    "#test \n",
    "y = pd.read_csv('data/unbalanced_labels.csv')['2']\n",
    "\n",
    "sampler_report(y,sampler_cross_validation_of_unbalanced_dataset(y, 5))"
   ]
  }
 ],
 "metadata": {
  "kernelspec": {
   "display_name": "Python 3",
   "language": "python",
   "name": "python3"
  },
  "language_info": {
   "codemirror_mode": {
    "name": "ipython",
    "version": 3
   },
   "file_extension": ".py",
   "mimetype": "text/x-python",
   "name": "python",
   "nbconvert_exporter": "python",
   "pygments_lexer": "ipython3",
   "version": "3.6.4"
  }
 },
 "nbformat": 4,
 "nbformat_minor": 2
}
